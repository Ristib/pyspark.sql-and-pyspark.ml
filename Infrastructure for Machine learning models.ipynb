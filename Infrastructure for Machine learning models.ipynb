{
 "cells": [
  {
   "cell_type": "markdown",
   "metadata": {
    "id": "p92rzC-2D71g"
   },
   "source": [
    "# Инфраструктура для моделей машинного обучения\n",
    "\n",
    "Использование библиотек PySpark SQL и PySpark ML для предобработки данных и обучения моделей.\n",
    "\n",
    "# Что входит в работу\n",
    "\n",
    "1. Инициализация спарк-сессии.\n",
    "2. Загрузка данных.\n",
    "3. Ознакомление с данными.\n",
    "4. Преобразование типов столбцов.\n",
    "5. Очистка данных.\n",
    "6. Feature-инжиниринг.\n",
    "7. Векторизация фичей.\n",
    "8. Создание и обучение модели.\n",
    "9. Выбор лучшей модели.\n",
    "\n",
    "# Задача\n",
    "\n",
    "Используя данные о клиентах телекоммуникационной компании, обучите модель, предсказывающую их отток.\n",
    "\n",
    "Описание данных, с которыми вы будете работать:\n",
    "\n",
    "* **CustomerID**: ID клиента.\n",
    "* **Gender**: пол клиента.\n",
    "* **SeniorCitizen**: пенсионер ли клиент (1 — да, 0 — нет).\n",
    "* **Partner**: есть у клиента партнёр (жена, муж) или нет (Yes/No).\n",
    "* **Dependents**: есть ли у клиента инждивенцы, например дети (Yes/No).\n",
    "* **Tenure**: как много месяцев клиент оставался в компании.\n",
    "* **PhoneService**: подключена ли у клиента телефонная служба (Yes/No).\n",
    "* **MultipleLines**: подключено ли несколько телефонных линий (Yes, No, No phone service).\n",
    "* **InternetService**: интернет-провайдер клиента (DSL, Fiber optic, No).\n",
    "* **OnlineSecurity**: подключена ли у клиента услуга онлайн-безопасности (Yes, No, No internet service)\n",
    "* **OnlineBackup**: подключена ли услуга резервного копирования онлайн (Yes, No, No internet service).\n",
    "* **DeviceProtection**: подключена ли услуга защиты устройства (Yes, No, No internet service)\n",
    "* **TechSupport**: есть ли у клиента техническая поддержка (Yes, No, No internet service).\n",
    "* **StreamingTV**: подключена ли услуга потокового телевидения (Yes, No, No internet service).\n",
    "* **StreamingMovies**: подключена ли услуга стримингового воспроизведения фильмов (Yes, No, No internet service).\n",
    "* **Contract**: тип контракта клиента (Month-to-month, One year, Two year).\n",
    "* **PaperlessBilling**: есть ли безбумажный счёт.\n",
    "* **PaymentMethod**: способ оплаты услуг (Electronic check, Mailed check, Bank transfer (automatic), Credit card (automatic)).\n",
    "* **MonthlyCharges**: сумма, которая списывается ежемесячно.\n",
    "* **TotalCharges**: сумма, списанная за всё время.\n",
    "* **Churn**: ушёл ли клиент (Yes/No). Это целевая переменная, которую нужно предсказать.\n"
   ]
  },
  {
   "cell_type": "markdown",
   "metadata": {
    "id": "CZmr6VeYvLKB"
   },
   "source": [
    "# 1. Инициализация спарк-сессии"
   ]
  },
  {
   "cell_type": "markdown",
   "metadata": {
    "id": "EO2v2cOjyZBN"
   },
   "source": [
    "Инициализируйте спарк-сессию.\n",
    "\n",
    "Эта ячейка нужна для того, чтобы заргузить необходимые библиотеки и настроить окружение Google Colab для работы со Spark."
   ]
  },
  {
   "cell_type": "code",
   "execution_count": 1,
   "metadata": {
    "id": "UuUc1cxHuymb"
   },
   "outputs": [],
   "source": [
    "!pip install pyspark --quiet\n",
    "!pip install -U -q PyDrive --quiet\n",
    "!apt install openjdk-8-jdk-headless &> /dev/null\n",
    "\n",
    "import os\n",
    "os.environ[\"JAVA_HOME\"] = \"/usr/lib/jvm/java-8-openjdk-amd64\""
   ]
  },
  {
   "cell_type": "markdown",
   "metadata": {
    "id": "d0f4B6p5f6cl"
   },
   "source": []
  },
  {
   "cell_type": "code",
   "execution_count": 2,
   "metadata": {
    "id": "8Q743I78vA5_"
   },
   "outputs": [],
   "source": [
    "from pyspark.sql import SparkSession\n",
    "\n",
    "spark = SparkSession.builder\\\n",
    "        .master(\"local[*]\")\\\n",
    "        .appName('PySpark_Tutorial')\\\n",
    "        .getOrCreate()"
   ]
  },
  {
   "cell_type": "markdown",
   "metadata": {
    "id": "e55O3aB5vo3k"
   },
   "source": [
    "# 2. Загрузка данных\n",
    "Загрузка данных, сохранение их в переменную типа sparkDataframe, используя метод read.csv"
   ]
  },
  {
   "cell_type": "code",
   "execution_count": 3,
   "metadata": {
    "colab": {
     "base_uri": "https://localhost:8080/"
    },
    "id": "1GVOybUCvlXy",
    "outputId": "a2a54c39-6487-40e1-cfd9-436e71360f83"
   },
   "outputs": [
    {
     "name": "stdout",
     "output_type": "stream",
     "text": [
      "Drive already mounted at /content/drive; to attempt to forcibly remount, call drive.mount(\"/content/drive\", force_remount=True).\n"
     ]
    }
   ],
   "source": [
    "# Загрузка файла в Google Colab\n",
    "from google.colab import drive\n",
    "drive.mount(\"/content/drive\")\n",
    "\n",
    "sparkDataframe = spark.read.option(\"header\",True).option(\"delimiter\",\";\").csv(\"/content/drive/MyDrive/Colab Notebooks/WA_Fn-UseC_-Telco-Customer-Churn.csv\")"
   ]
  },
  {
   "cell_type": "markdown",
   "metadata": {
    "id": "k8amaWNGzDsf"
   },
   "source": [
    "# 3. Ознакомление с данными\n",
    "1. Вывод на экран первых несколько строк датафрейма.\n"
   ]
  },
  {
   "cell_type": "code",
   "execution_count": 4,
   "metadata": {
    "colab": {
     "base_uri": "https://localhost:8080/"
    },
    "id": "bPfkFFUoz19Y",
    "outputId": "7037fff7-fd20-4ec8-cef4-013512cc31a2"
   },
   "outputs": [
    {
     "name": "stdout",
     "output_type": "stream",
     "text": [
      "+-------------------------------------------------------------------------------------------------------------------------------------------------------------------------------------------------------------------------------------------------------------------+\n",
      "|customerID,gender,SeniorCitizen,Partner,Dependents,tenure,PhoneService,MultipleLines,InternetService,OnlineSecurity,OnlineBackup,DeviceProtection,TechSupport,StreamingTV,StreamingMovies,Contract,PaperlessBilling,PaymentMethod,MonthlyCharges,TotalCharges,Churn|\n",
      "+-------------------------------------------------------------------------------------------------------------------------------------------------------------------------------------------------------------------------------------------------------------------+\n",
      "|                                                                                                                                                                                                                                               7590-VHVEG,Female...|\n",
      "|                                                                                                                                                                                                                                               5575-GNVDE,Male,0...|\n",
      "|                                                                                                                                                                                                                                               3668-QPYBK,Male,0...|\n",
      "|                                                                                                                                                                                                                                               7795-CFOCW,Male,0...|\n",
      "|                                                                                                                                                                                                                                               9237-HQITU,Female...|\n",
      "|                                                                                                                                                                                                                                               9305-CDSKC,Female...|\n",
      "|                                                                                                                                                                                                                                               1452-KIOVK,Male,0...|\n",
      "|                                                                                                                                                                                                                                               6713-OKOMC,Female...|\n",
      "|                                                                                                                                                                                                                                               7892-POOKP,Female...|\n",
      "|                                                                                                                                                                                                                                               6388-TABGU,Male,0...|\n",
      "|                                                                                                                                                                                                                                               9763-GRSKD,Male,0...|\n",
      "|                                                                                                                                                                                                                                               7469-LKBCI,Male,0...|\n",
      "|                                                                                                                                                                                                                                               8091-TTVAX,Male,0...|\n",
      "|                                                                                                                                                                                                                                               0280-XJGEX,Male,0...|\n",
      "|                                                                                                                                                                                                                                               5129-JLPIS,Male,0...|\n",
      "|                                                                                                                                                                                                                                               3655-SNQYZ,Female...|\n",
      "|                                                                                                                                                                                                                                               8191-XWSZG,Female...|\n",
      "|                                                                                                                                                                                                                                               9959-WOFKT,Male,0...|\n",
      "|                                                                                                                                                                                                                                               4190-MFLUW,Female...|\n",
      "|                                                                                                                                                                                                                                               4183-MYFRB,Female...|\n",
      "+-------------------------------------------------------------------------------------------------------------------------------------------------------------------------------------------------------------------------------------------------------------------+\n",
      "only showing top 20 rows\n",
      "\n"
     ]
    }
   ],
   "source": [
    "sparkDataframe.show()"
   ]
  },
  {
   "cell_type": "markdown",
   "metadata": {
    "id": "vMgX25wr0JfV"
   },
   "source": [
    "2. Вывод общего количества строк датафрейма."
   ]
  },
  {
   "cell_type": "code",
   "execution_count": 5,
   "metadata": {
    "colab": {
     "base_uri": "https://localhost:8080/"
    },
    "id": "ivgw172qz9o_",
    "outputId": "d32346d7-48ee-464a-b524-5957edd94ff8"
   },
   "outputs": [
    {
     "name": "stdout",
     "output_type": "stream",
     "text": [
      "общее количество строк датафрейма: 7043\n"
     ]
    }
   ],
   "source": [
    "# Вывод общего количества строк\n",
    "print(f\"общее количество строк датафрейма: {sparkDataframe.count()}\")"
   ]
  },
  {
   "cell_type": "markdown",
   "metadata": {
    "id": "xCAeIZFe0KyY"
   },
   "source": [
    "3. Вывод структуры (схемы) датафрейма."
   ]
  },
  {
   "cell_type": "code",
   "execution_count": 6,
   "metadata": {
    "colab": {
     "base_uri": "https://localhost:8080/"
    },
    "id": "KmZY25zX0Fd5",
    "outputId": "123f83da-ff57-432c-e3f4-0701883aee1d"
   },
   "outputs": [
    {
     "name": "stdout",
     "output_type": "stream",
     "text": [
      "root\n",
      " |-- customerID,gender,SeniorCitizen,Partner,Dependents,tenure,PhoneService,MultipleLines,InternetService,OnlineSecurity,OnlineBackup,DeviceProtection,TechSupport,StreamingTV,StreamingMovies,Contract,PaperlessBilling,PaymentMethod,MonthlyCharges,TotalCharges,Churn: string (nullable = true)\n",
      "\n"
     ]
    }
   ],
   "source": [
    "sparkDataframe.printSchema()"
   ]
  },
  {
   "cell_type": "markdown",
   "metadata": {
    "id": "DFcKPAI_0cF7"
   },
   "source": [
    "# 4. Преобразование типов столбцов\n",
    "Преобразование типа столбцов у числовых признаков (Int — если признак целочисленный, Double — если признак не целочисленный). Сохранение преобразованного датафрейма в новую переменную."
   ]
  },
  {
   "cell_type": "code",
   "execution_count": 7,
   "metadata": {
    "colab": {
     "base_uri": "https://localhost:8080/"
    },
    "id": "Kihtrqni0-Js",
    "outputId": "f20895e7-c575-4419-9139-16a7bec8a26e"
   },
   "outputs": [
    {
     "name": "stdout",
     "output_type": "stream",
     "text": [
      "+------+-------------+-------+----------+------+------------+----------------+---------------+-------------------+-------------------+-------------------+-------------------+-------------------+-------------------+--------------+----------------+--------------------+--------------+------------+-----+\n",
      "|gender|SeniorCitizen|Partner|Dependents|tenure|PhoneService|   MultipleLines|InternetService|     OnlineSecurity|       OnlineBackup|   DeviceProtection|        TechSupport|        StreamingTV|    StreamingMovies|      Contract|PaperlessBilling|       PaymentMethod|MonthlyCharges|TotalCharges|Churn|\n",
      "+------+-------------+-------+----------+------+------------+----------------+---------------+-------------------+-------------------+-------------------+-------------------+-------------------+-------------------+--------------+----------------+--------------------+--------------+------------+-----+\n",
      "|Female|            0|    Yes|        No|     1|          No|No phone service|            DSL|                 No|                Yes|                 No|                 No|                 No|                 No|Month-to-month|             Yes|    Electronic check|         29.85|       29.85|   No|\n",
      "|  Male|            0|     No|        No|    34|         Yes|              No|            DSL|                Yes|                 No|                Yes|                 No|                 No|                 No|      One year|              No|        Mailed check|         56.95|      1889.5|   No|\n",
      "|  Male|            0|     No|        No|     2|         Yes|              No|            DSL|                Yes|                Yes|                 No|                 No|                 No|                 No|Month-to-month|             Yes|        Mailed check|         53.85|      108.15|  Yes|\n",
      "|  Male|            0|     No|        No|    45|          No|No phone service|            DSL|                Yes|                 No|                Yes|                Yes|                 No|                 No|      One year|              No|Bank transfer (au...|          42.3|     1840.75|   No|\n",
      "|Female|            0|     No|        No|     2|         Yes|              No|    Fiber optic|                 No|                 No|                 No|                 No|                 No|                 No|Month-to-month|             Yes|    Electronic check|          70.7|      151.65|  Yes|\n",
      "|Female|            0|     No|        No|     8|         Yes|             Yes|    Fiber optic|                 No|                 No|                Yes|                 No|                Yes|                Yes|Month-to-month|             Yes|    Electronic check|         99.65|       820.5|  Yes|\n",
      "|  Male|            0|     No|       Yes|    22|         Yes|             Yes|    Fiber optic|                 No|                Yes|                 No|                 No|                Yes|                 No|Month-to-month|             Yes|Credit card (auto...|          89.1|      1949.4|   No|\n",
      "|Female|            0|     No|        No|    10|          No|No phone service|            DSL|                Yes|                 No|                 No|                 No|                 No|                 No|Month-to-month|              No|        Mailed check|         29.75|       301.9|   No|\n",
      "|Female|            0|    Yes|        No|    28|         Yes|             Yes|    Fiber optic|                 No|                 No|                Yes|                Yes|                Yes|                Yes|Month-to-month|             Yes|    Electronic check|         104.8|     3046.05|  Yes|\n",
      "|  Male|            0|     No|       Yes|    62|         Yes|              No|            DSL|                Yes|                Yes|                 No|                 No|                 No|                 No|      One year|              No|Bank transfer (au...|         56.15|     3487.95|   No|\n",
      "|  Male|            0|    Yes|       Yes|    13|         Yes|              No|            DSL|                Yes|                 No|                 No|                 No|                 No|                 No|Month-to-month|             Yes|        Mailed check|         49.95|      587.45|   No|\n",
      "|  Male|            0|     No|        No|    16|         Yes|              No|             No|No internet service|No internet service|No internet service|No internet service|No internet service|No internet service|      Two year|              No|Credit card (auto...|         18.95|       326.8|   No|\n",
      "|  Male|            0|    Yes|        No|    58|         Yes|             Yes|    Fiber optic|                 No|                 No|                Yes|                 No|                Yes|                Yes|      One year|              No|Credit card (auto...|        100.35|      5681.1|   No|\n",
      "|  Male|            0|     No|        No|    49|         Yes|             Yes|    Fiber optic|                 No|                Yes|                Yes|                 No|                Yes|                Yes|Month-to-month|             Yes|Bank transfer (au...|         103.7|      5036.3|  Yes|\n",
      "|  Male|            0|     No|        No|    25|         Yes|              No|    Fiber optic|                Yes|                 No|                Yes|                Yes|                Yes|                Yes|Month-to-month|             Yes|    Electronic check|         105.5|     2686.05|   No|\n",
      "|Female|            0|    Yes|       Yes|    69|         Yes|             Yes|    Fiber optic|                Yes|                Yes|                Yes|                Yes|                Yes|                Yes|      Two year|              No|Credit card (auto...|        113.25|     7895.15|   No|\n",
      "|Female|            0|     No|        No|    52|         Yes|              No|             No|No internet service|No internet service|No internet service|No internet service|No internet service|No internet service|      One year|              No|        Mailed check|         20.65|     1022.95|   No|\n",
      "|  Male|            0|     No|       Yes|    71|         Yes|             Yes|    Fiber optic|                Yes|                 No|                Yes|                 No|                Yes|                Yes|      Two year|              No|Bank transfer (au...|         106.7|     7382.25|   No|\n",
      "|Female|            0|    Yes|       Yes|    10|         Yes|              No|            DSL|                 No|                 No|                Yes|                Yes|                 No|                 No|Month-to-month|              No|Credit card (auto...|          55.2|      528.35|  Yes|\n",
      "|Female|            0|     No|        No|    21|         Yes|              No|    Fiber optic|                 No|                Yes|                Yes|                 No|                 No|                Yes|Month-to-month|             Yes|    Electronic check|         90.05|      1862.9|   No|\n",
      "+------+-------------+-------+----------+------+------------+----------------+---------------+-------------------+-------------------+-------------------+-------------------+-------------------+-------------------+--------------+----------------+--------------------+--------------+------------+-----+\n",
      "only showing top 20 rows\n",
      "\n"
     ]
    }
   ],
   "source": [
    "from pyspark.sql.functions import expr, col, count, split\n",
    "\n",
    "column = sparkDataframe.columns[0]\n",
    "column\n",
    "\n",
    "# разделение исходных данных на несколько колонок\n",
    "sparkDataframe1 = sparkDataframe.withColumn('gender', split(sparkDataframe[column], ',').getItem(1)) \\\n",
    "                  .withColumn('SeniorCitizen', split(sparkDataframe[column], ',').getItem(2)) \\\n",
    "                  .withColumn('Partner', split(sparkDataframe[column], ',').getItem(3)) \\\n",
    "                  .withColumn('Dependents', split(sparkDataframe[column], ',').getItem(4)) \\\n",
    "                  .withColumn('tenure', split(sparkDataframe[column], ',').getItem(5).cast(\"Int\")) \\\n",
    "                  .withColumn('PhoneService', split(sparkDataframe[column], ',').getItem(6)) \\\n",
    "                  .withColumn('MultipleLines', split(sparkDataframe[column], ',').getItem(7)) \\\n",
    "                  .withColumn('InternetService', split(sparkDataframe[column], ',').getItem(8)) \\\n",
    "                  .withColumn('OnlineSecurity', split(sparkDataframe[column], ',').getItem(9)) \\\n",
    "                  .withColumn('OnlineBackup', split(sparkDataframe[column], ',').getItem(10)) \\\n",
    "                  .withColumn('DeviceProtection', split(sparkDataframe[column], ',').getItem(11)) \\\n",
    "                  .withColumn('TechSupport', split(sparkDataframe[column], ',').getItem(12)) \\\n",
    "                  .withColumn('StreamingTV', split(sparkDataframe[column], ',').getItem(13)) \\\n",
    "                  .withColumn('StreamingMovies', split(sparkDataframe[column], ',').getItem(14)) \\\n",
    "                  .withColumn('Contract', split(sparkDataframe[column], ',').getItem(15)) \\\n",
    "                  .withColumn('PaperlessBilling', split(sparkDataframe[column], ',').getItem(16)) \\\n",
    "                  .withColumn('PaymentMethod', split(sparkDataframe[column], ',').getItem(17)) \\\n",
    "                  .withColumn('MonthlyCharges', split(sparkDataframe[column], ',').getItem(18).cast(\"Double\")) \\\n",
    "                  .withColumn('TotalCharges', split(sparkDataframe[column], ',').getItem(19).cast(\"Double\")) \\\n",
    "                  .withColumn('Churn', split(sparkDataframe[column], ',').getItem(20)).drop(column)\n",
    "\n",
    "sparkDataframe1.show()"
   ]
  },
  {
   "cell_type": "markdown",
   "metadata": {
    "id": "1hBBiIm350BD"
   },
   "source": [
    "# 5. Очистка данных\n",
    "Провека, есть ли в какой-либо колонке Null-значения. Для этого можно использовать your_dataframe.filter(col(\"colname\")).isNull()).\n",
    "\n",
    "Вывод на экран несколько строк с Null-значениями в одной из колонок.\n",
    "\n",
    "Сохранение очищенных от строк с Null-значениями датафрейма в новую переменную. Для фильтрации этих значений можно использовать метод .isNotNull().\n",
    "\n",
    "Колонок в датафрейме много, проверять каждую неудобно и долго. Упроситить эту работу, если использовать, например, перебор с циклом for."
   ]
  },
  {
   "cell_type": "code",
   "execution_count": 8,
   "metadata": {
    "colab": {
     "base_uri": "https://localhost:8080/"
    },
    "id": "A0FTVvpg6_iy",
    "outputId": "33f2cf80-b20a-4040-adfd-29fd6a185f72"
   },
   "outputs": [
    {
     "data": {
      "text/plain": [
       "['gender',\n",
       " 'SeniorCitizen',\n",
       " 'Partner',\n",
       " 'Dependents',\n",
       " 'tenure',\n",
       " 'PhoneService',\n",
       " 'MultipleLines',\n",
       " 'InternetService',\n",
       " 'OnlineSecurity',\n",
       " 'OnlineBackup',\n",
       " 'DeviceProtection',\n",
       " 'TechSupport',\n",
       " 'StreamingTV',\n",
       " 'StreamingMovies',\n",
       " 'Contract',\n",
       " 'PaperlessBilling',\n",
       " 'PaymentMethod',\n",
       " 'MonthlyCharges',\n",
       " 'TotalCharges',\n",
       " 'Churn']"
      ]
     },
     "execution_count": 8,
     "metadata": {},
     "output_type": "execute_result"
    }
   ],
   "source": [
    "columns = sparkDataframe1.columns\n",
    "columns"
   ]
  },
  {
   "cell_type": "code",
   "execution_count": 9,
   "metadata": {
    "colab": {
     "base_uri": "https://localhost:8080/"
    },
    "id": "RYrQqwZWyKZx",
    "outputId": "876b94e9-fb93-4722-a90e-070239b603ae"
   },
   "outputs": [
    {
     "name": "stdout",
     "output_type": "stream",
     "text": [
      "gender 0\n",
      "SeniorCitizen 0\n",
      "Partner 0\n",
      "Dependents 0\n",
      "tenure 0\n",
      "PhoneService 0\n",
      "MultipleLines 0\n",
      "InternetService 0\n",
      "OnlineSecurity 0\n",
      "OnlineBackup 0\n",
      "DeviceProtection 0\n",
      "TechSupport 0\n",
      "StreamingTV 0\n",
      "StreamingMovies 0\n",
      "Contract 0\n",
      "PaperlessBilling 0\n",
      "PaymentMethod 0\n",
      "MonthlyCharges 0\n",
      "TotalCharges 11\n",
      "Churn 0\n"
     ]
    }
   ],
   "source": [
    "# количество пропусков в каждой колонке\n",
    "\n",
    "for col in columns:\n",
    "  print(col, sparkDataframe1.filter(sparkDataframe1[col].isNull()).count())"
   ]
  },
  {
   "cell_type": "code",
   "execution_count": 10,
   "metadata": {
    "colab": {
     "base_uri": "https://localhost:8080/"
    },
    "id": "mB3rJpyYyQwA",
    "outputId": "5fba351e-3e90-4368-e016-7fc650c35118"
   },
   "outputs": [
    {
     "name": "stdout",
     "output_type": "stream",
     "text": [
      "+------+-------------+-------+----------+------+------------+----------------+---------------+-------------------+-------------------+-------------------+-------------------+-------------------+-------------------+--------+----------------+--------------------+--------------+------------+-----+\n",
      "|gender|SeniorCitizen|Partner|Dependents|tenure|PhoneService|   MultipleLines|InternetService|     OnlineSecurity|       OnlineBackup|   DeviceProtection|        TechSupport|        StreamingTV|    StreamingMovies|Contract|PaperlessBilling|       PaymentMethod|MonthlyCharges|TotalCharges|Churn|\n",
      "+------+-------------+-------+----------+------+------------+----------------+---------------+-------------------+-------------------+-------------------+-------------------+-------------------+-------------------+--------+----------------+--------------------+--------------+------------+-----+\n",
      "|Female|            0|    Yes|       Yes|     0|          No|No phone service|            DSL|                Yes|                 No|                Yes|                Yes|                Yes|                 No|Two year|             Yes|Bank transfer (au...|         52.55|        NULL|   No|\n",
      "|  Male|            0|     No|       Yes|     0|         Yes|              No|             No|No internet service|No internet service|No internet service|No internet service|No internet service|No internet service|Two year|              No|        Mailed check|         20.25|        NULL|   No|\n",
      "|Female|            0|    Yes|       Yes|     0|         Yes|              No|            DSL|                Yes|                Yes|                Yes|                 No|                Yes|                Yes|Two year|              No|        Mailed check|         80.85|        NULL|   No|\n",
      "|  Male|            0|    Yes|       Yes|     0|         Yes|             Yes|             No|No internet service|No internet service|No internet service|No internet service|No internet service|No internet service|Two year|              No|        Mailed check|         25.75|        NULL|   No|\n",
      "|Female|            0|    Yes|       Yes|     0|          No|No phone service|            DSL|                Yes|                Yes|                Yes|                Yes|                Yes|                 No|Two year|              No|Credit card (auto...|         56.05|        NULL|   No|\n",
      "|  Male|            0|    Yes|       Yes|     0|         Yes|              No|             No|No internet service|No internet service|No internet service|No internet service|No internet service|No internet service|Two year|              No|        Mailed check|         19.85|        NULL|   No|\n",
      "|  Male|            0|    Yes|       Yes|     0|         Yes|             Yes|             No|No internet service|No internet service|No internet service|No internet service|No internet service|No internet service|Two year|              No|        Mailed check|         25.35|        NULL|   No|\n",
      "|Female|            0|    Yes|       Yes|     0|         Yes|              No|             No|No internet service|No internet service|No internet service|No internet service|No internet service|No internet service|Two year|              No|        Mailed check|          20.0|        NULL|   No|\n",
      "|  Male|            0|    Yes|       Yes|     0|         Yes|              No|             No|No internet service|No internet service|No internet service|No internet service|No internet service|No internet service|One year|             Yes|        Mailed check|          19.7|        NULL|   No|\n",
      "|Female|            0|    Yes|       Yes|     0|         Yes|             Yes|            DSL|                 No|                Yes|                Yes|                Yes|                Yes|                 No|Two year|              No|        Mailed check|         73.35|        NULL|   No|\n",
      "|  Male|            0|     No|       Yes|     0|         Yes|             Yes|            DSL|                Yes|                Yes|                 No|                Yes|                 No|                 No|Two year|             Yes|Bank transfer (au...|          61.9|        NULL|   No|\n",
      "+------+-------------+-------+----------+------+------------+----------------+---------------+-------------------+-------------------+-------------------+-------------------+-------------------+-------------------+--------+----------------+--------------------+--------------+------------+-----+\n",
      "\n"
     ]
    }
   ],
   "source": [
    "sparkDataframe1.filter(sparkDataframe1['TotalCharges'].isNull()).show()   # вывод строк с нулевыми значениями в колонке TotalCharges"
   ]
  },
  {
   "cell_type": "code",
   "execution_count": 11,
   "metadata": {
    "id": "T8bjjbsCyXD3"
   },
   "outputs": [],
   "source": [
    "sparkDataframe2 = sparkDataframe1.filter(sparkDataframe1['TotalCharges'].isNotNull()) # запись нового дф без строк с пропусками"
   ]
  },
  {
   "cell_type": "code",
   "execution_count": 12,
   "metadata": {
    "colab": {
     "base_uri": "https://localhost:8080/"
    },
    "id": "5EaWzzfpyjoR",
    "outputId": "975055fc-f465-48ca-cb9d-5c4490b88a62"
   },
   "outputs": [
    {
     "name": "stdout",
     "output_type": "stream",
     "text": [
      "+------+-------------+-------+----------+------+------------+-------------+---------------+--------------+------------+----------------+-----------+-----------+---------------+--------+----------------+-------------+--------------+------------+-----+\n",
      "|gender|SeniorCitizen|Partner|Dependents|tenure|PhoneService|MultipleLines|InternetService|OnlineSecurity|OnlineBackup|DeviceProtection|TechSupport|StreamingTV|StreamingMovies|Contract|PaperlessBilling|PaymentMethod|MonthlyCharges|TotalCharges|Churn|\n",
      "+------+-------------+-------+----------+------+------------+-------------+---------------+--------------+------------+----------------+-----------+-----------+---------------+--------+----------------+-------------+--------------+------------+-----+\n",
      "+------+-------------+-------+----------+------+------------+-------------+---------------+--------------+------------+----------------+-----------+-----------+---------------+--------+----------------+-------------+--------------+------------+-----+\n",
      "\n"
     ]
    }
   ],
   "source": [
    "sparkDataframe2.filter(sparkDataframe2['TotalCharges'].isNull()).show()   # проверка, что строк с нулевыми значениями в колонке TotalCharges не осталось"
   ]
  },
  {
   "cell_type": "markdown",
   "metadata": {
    "id": "fMRcAbphNBEP"
   },
   "source": [
    "# 6. Feature-инжиниринг\n",
    "Добавление в датафрейм одну или несколько новых фичей. Удаление колонок, которые, как мне кажется, нужно убрать из фичей."
   ]
  },
  {
   "cell_type": "code",
   "execution_count": 13,
   "metadata": {
    "colab": {
     "base_uri": "https://localhost:8080/"
    },
    "id": "6SZ_rocx79oY",
    "outputId": "16856ca5-5573-4341-f3c6-2197c116be81"
   },
   "outputs": [
    {
     "name": "stdout",
     "output_type": "stream",
     "text": [
      "+------+-------------+-------+----------+------+------------+----------------+---------------+-------------------+-------------------+-------------------+-------------------+-------------------+-------------------+--------------+----------------+--------------------+--------------+------------+-----+\n",
      "|gender|SeniorCitizen|Partner|Dependents|tenure|PhoneService|   MultipleLines|InternetService|     OnlineSecurity|       OnlineBackup|   DeviceProtection|        TechSupport|        StreamingTV|    StreamingMovies|      Contract|PaperlessBilling|       PaymentMethod|MonthlyCharges|TotalCharges|Churn|\n",
      "+------+-------------+-------+----------+------+------------+----------------+---------------+-------------------+-------------------+-------------------+-------------------+-------------------+-------------------+--------------+----------------+--------------------+--------------+------------+-----+\n",
      "|Female|            0|    Yes|        No|     1|          No|No phone service|            DSL|                 No|                Yes|                 No|                 No|                 No|                 No|Month-to-month|             Yes|    Electronic check|         29.85|       29.85|   No|\n",
      "|  Male|            0|     No|        No|    34|         Yes|              No|            DSL|                Yes|                 No|                Yes|                 No|                 No|                 No|      One year|              No|        Mailed check|         56.95|      1889.5|   No|\n",
      "|  Male|            0|     No|        No|     2|         Yes|              No|            DSL|                Yes|                Yes|                 No|                 No|                 No|                 No|Month-to-month|             Yes|        Mailed check|         53.85|      108.15|  Yes|\n",
      "|  Male|            0|     No|        No|    45|          No|No phone service|            DSL|                Yes|                 No|                Yes|                Yes|                 No|                 No|      One year|              No|Bank transfer (au...|          42.3|     1840.75|   No|\n",
      "|Female|            0|     No|        No|     2|         Yes|              No|    Fiber optic|                 No|                 No|                 No|                 No|                 No|                 No|Month-to-month|             Yes|    Electronic check|          70.7|      151.65|  Yes|\n",
      "|Female|            0|     No|        No|     8|         Yes|             Yes|    Fiber optic|                 No|                 No|                Yes|                 No|                Yes|                Yes|Month-to-month|             Yes|    Electronic check|         99.65|       820.5|  Yes|\n",
      "|  Male|            0|     No|       Yes|    22|         Yes|             Yes|    Fiber optic|                 No|                Yes|                 No|                 No|                Yes|                 No|Month-to-month|             Yes|Credit card (auto...|          89.1|      1949.4|   No|\n",
      "|Female|            0|     No|        No|    10|          No|No phone service|            DSL|                Yes|                 No|                 No|                 No|                 No|                 No|Month-to-month|              No|        Mailed check|         29.75|       301.9|   No|\n",
      "|Female|            0|    Yes|        No|    28|         Yes|             Yes|    Fiber optic|                 No|                 No|                Yes|                Yes|                Yes|                Yes|Month-to-month|             Yes|    Electronic check|         104.8|     3046.05|  Yes|\n",
      "|  Male|            0|     No|       Yes|    62|         Yes|              No|            DSL|                Yes|                Yes|                 No|                 No|                 No|                 No|      One year|              No|Bank transfer (au...|         56.15|     3487.95|   No|\n",
      "|  Male|            0|    Yes|       Yes|    13|         Yes|              No|            DSL|                Yes|                 No|                 No|                 No|                 No|                 No|Month-to-month|             Yes|        Mailed check|         49.95|      587.45|   No|\n",
      "|  Male|            0|     No|        No|    16|         Yes|              No|             No|No internet service|No internet service|No internet service|No internet service|No internet service|No internet service|      Two year|              No|Credit card (auto...|         18.95|       326.8|   No|\n",
      "|  Male|            0|    Yes|        No|    58|         Yes|             Yes|    Fiber optic|                 No|                 No|                Yes|                 No|                Yes|                Yes|      One year|              No|Credit card (auto...|        100.35|      5681.1|   No|\n",
      "|  Male|            0|     No|        No|    49|         Yes|             Yes|    Fiber optic|                 No|                Yes|                Yes|                 No|                Yes|                Yes|Month-to-month|             Yes|Bank transfer (au...|         103.7|      5036.3|  Yes|\n",
      "|  Male|            0|     No|        No|    25|         Yes|              No|    Fiber optic|                Yes|                 No|                Yes|                Yes|                Yes|                Yes|Month-to-month|             Yes|    Electronic check|         105.5|     2686.05|   No|\n",
      "|Female|            0|    Yes|       Yes|    69|         Yes|             Yes|    Fiber optic|                Yes|                Yes|                Yes|                Yes|                Yes|                Yes|      Two year|              No|Credit card (auto...|        113.25|     7895.15|   No|\n",
      "|Female|            0|     No|        No|    52|         Yes|              No|             No|No internet service|No internet service|No internet service|No internet service|No internet service|No internet service|      One year|              No|        Mailed check|         20.65|     1022.95|   No|\n",
      "|  Male|            0|     No|       Yes|    71|         Yes|             Yes|    Fiber optic|                Yes|                 No|                Yes|                 No|                Yes|                Yes|      Two year|              No|Bank transfer (au...|         106.7|     7382.25|   No|\n",
      "|Female|            0|    Yes|       Yes|    10|         Yes|              No|            DSL|                 No|                 No|                Yes|                Yes|                 No|                 No|Month-to-month|              No|Credit card (auto...|          55.2|      528.35|  Yes|\n",
      "|Female|            0|     No|        No|    21|         Yes|              No|    Fiber optic|                 No|                Yes|                Yes|                 No|                 No|                Yes|Month-to-month|             Yes|    Electronic check|         90.05|      1862.9|   No|\n",
      "+------+-------------+-------+----------+------+------------+----------------+---------------+-------------------+-------------------+-------------------+-------------------+-------------------+-------------------+--------------+----------------+--------------------+--------------+------------+-----+\n",
      "only showing top 20 rows\n",
      "\n"
     ]
    }
   ],
   "source": [
    "from pyspark.sql.functions import when\n",
    "\n",
    "sparkDataframe2.show()"
   ]
  },
  {
   "cell_type": "code",
   "execution_count": 14,
   "metadata": {
    "colab": {
     "base_uri": "https://localhost:8080/"
    },
    "id": "LOSKy-aiNLBb",
    "outputId": "1258ae8d-45bf-4cf0-fb20-39fdde191929"
   },
   "outputs": [
    {
     "name": "stdout",
     "output_type": "stream",
     "text": [
      "+------+-------+----------+------------+----------------+---------------+-------------------+-------------------+-------------------+-------------------+-------------------+-------------------+--------------+----------------+--------------------+--------------+------------+-----+-------------------+\n",
      "|gender|Partner|Dependents|PhoneService|   MultipleLines|InternetService|     OnlineSecurity|       OnlineBackup|   DeviceProtection|        TechSupport|        StreamingTV|    StreamingMovies|      Contract|PaperlessBilling|       PaymentMethod|MonthlyCharges|TotalCharges|Churn|       tenure_years|\n",
      "+------+-------+----------+------------+----------------+---------------+-------------------+-------------------+-------------------+-------------------+-------------------+-------------------+--------------+----------------+--------------------+--------------+------------+-----+-------------------+\n",
      "|Female|    Yes|        No|          No|No phone service|            DSL|                 No|                Yes|                 No|                 No|                 No|                 No|Month-to-month|             Yes|    Electronic check|         29.85|       29.85|   No|0.08333333333333333|\n",
      "|  Male|     No|        No|         Yes|              No|            DSL|                Yes|                 No|                Yes|                 No|                 No|                 No|      One year|              No|        Mailed check|         56.95|      1889.5|   No| 2.8333333333333335|\n",
      "|  Male|     No|        No|         Yes|              No|            DSL|                Yes|                Yes|                 No|                 No|                 No|                 No|Month-to-month|             Yes|        Mailed check|         53.85|      108.15|  Yes|0.16666666666666666|\n",
      "|  Male|     No|        No|          No|No phone service|            DSL|                Yes|                 No|                Yes|                Yes|                 No|                 No|      One year|              No|Bank transfer (au...|          42.3|     1840.75|   No|               3.75|\n",
      "|Female|     No|        No|         Yes|              No|    Fiber optic|                 No|                 No|                 No|                 No|                 No|                 No|Month-to-month|             Yes|    Electronic check|          70.7|      151.65|  Yes|0.16666666666666666|\n",
      "|Female|     No|        No|         Yes|             Yes|    Fiber optic|                 No|                 No|                Yes|                 No|                Yes|                Yes|Month-to-month|             Yes|    Electronic check|         99.65|       820.5|  Yes| 0.6666666666666666|\n",
      "|  Male|     No|       Yes|         Yes|             Yes|    Fiber optic|                 No|                Yes|                 No|                 No|                Yes|                 No|Month-to-month|             Yes|Credit card (auto...|          89.1|      1949.4|   No| 1.8333333333333333|\n",
      "|Female|     No|        No|          No|No phone service|            DSL|                Yes|                 No|                 No|                 No|                 No|                 No|Month-to-month|              No|        Mailed check|         29.75|       301.9|   No| 0.8333333333333334|\n",
      "|Female|    Yes|        No|         Yes|             Yes|    Fiber optic|                 No|                 No|                Yes|                Yes|                Yes|                Yes|Month-to-month|             Yes|    Electronic check|         104.8|     3046.05|  Yes| 2.3333333333333335|\n",
      "|  Male|     No|       Yes|         Yes|              No|            DSL|                Yes|                Yes|                 No|                 No|                 No|                 No|      One year|              No|Bank transfer (au...|         56.15|     3487.95|   No|  5.166666666666667|\n",
      "|  Male|    Yes|       Yes|         Yes|              No|            DSL|                Yes|                 No|                 No|                 No|                 No|                 No|Month-to-month|             Yes|        Mailed check|         49.95|      587.45|   No| 1.0833333333333333|\n",
      "|  Male|     No|        No|         Yes|              No|             No|No internet service|No internet service|No internet service|No internet service|No internet service|No internet service|      Two year|              No|Credit card (auto...|         18.95|       326.8|   No| 1.3333333333333333|\n",
      "|  Male|    Yes|        No|         Yes|             Yes|    Fiber optic|                 No|                 No|                Yes|                 No|                Yes|                Yes|      One year|              No|Credit card (auto...|        100.35|      5681.1|   No|  4.833333333333333|\n",
      "|  Male|     No|        No|         Yes|             Yes|    Fiber optic|                 No|                Yes|                Yes|                 No|                Yes|                Yes|Month-to-month|             Yes|Bank transfer (au...|         103.7|      5036.3|  Yes|  4.083333333333333|\n",
      "|  Male|     No|        No|         Yes|              No|    Fiber optic|                Yes|                 No|                Yes|                Yes|                Yes|                Yes|Month-to-month|             Yes|    Electronic check|         105.5|     2686.05|   No| 2.0833333333333335|\n",
      "|Female|    Yes|       Yes|         Yes|             Yes|    Fiber optic|                Yes|                Yes|                Yes|                Yes|                Yes|                Yes|      Two year|              No|Credit card (auto...|        113.25|     7895.15|   No|               5.75|\n",
      "|Female|     No|        No|         Yes|              No|             No|No internet service|No internet service|No internet service|No internet service|No internet service|No internet service|      One year|              No|        Mailed check|         20.65|     1022.95|   No|  4.333333333333333|\n",
      "|  Male|     No|       Yes|         Yes|             Yes|    Fiber optic|                Yes|                 No|                Yes|                 No|                Yes|                Yes|      Two year|              No|Bank transfer (au...|         106.7|     7382.25|   No|  5.916666666666667|\n",
      "|Female|    Yes|       Yes|         Yes|              No|            DSL|                 No|                 No|                Yes|                Yes|                 No|                 No|Month-to-month|              No|Credit card (auto...|          55.2|      528.35|  Yes| 0.8333333333333334|\n",
      "|Female|     No|        No|         Yes|              No|    Fiber optic|                 No|                Yes|                Yes|                 No|                 No|                Yes|Month-to-month|             Yes|    Electronic check|         90.05|      1862.9|   No|               1.75|\n",
      "+------+-------+----------+------------+----------------+---------------+-------------------+-------------------+-------------------+-------------------+-------------------+-------------------+--------------+----------------+--------------------+--------------+------------+-----+-------------------+\n",
      "only showing top 20 rows\n",
      "\n"
     ]
    }
   ],
   "source": [
    "# Удаляю колонку CustomerID, так как она не несет никакой полезной информации для модели, SeniorCitizen, так как клиентами компании являются лица разных возрастных категорий\n",
    "sparkDataframe2 = sparkDataframe2.drop('CustomerID', 'SeniorCitizen')\n",
    "\n",
    "# Создаю новую фичу, которая будет показывать, сколько лет клиент пользуется услугами компании.\n",
    "sparkDataframe2 = sparkDataframe2.withColumn('tenure_years', sparkDataframe2['tenure'] / 12)\n",
    "\n",
    "# Удаляю колонку tenure, так как она теперь дублируется в колонке tenure_years.\n",
    "sparkDataframe2 = sparkDataframe2.drop('tenure')\n",
    "\n",
    "sparkDataframe2.show()"
   ]
  },
  {
   "cell_type": "code",
   "execution_count": 15,
   "metadata": {
    "id": "BXieb717NLJD"
   },
   "outputs": [],
   "source": [
    "# Удаляю колонку CustomerID, так как она не несет никакой полезной информации для модели.\n",
    "# CustomerID - это просто идентификатор клиента, который не имеет отношения к его поведению или характеристикам.\n",
    "# SeniorCitizen, так как клиентами компании являются лица разных возрастных категорий\n",
    "\n",
    "# Создадаю новую фичу, которая будет показывать, сколько лет клиент пользуется услугами компании.\n",
    "# Эта фича может быть более полезной для модели, чем исходная фича tenure, которая показывает количество месяцев, так как она позволяет оценить, насколько давно клиент пользуется услугами компании.\n",
    "\n",
    "# Удаляю колонку tenure, так как она теперь дублируется в колонке tenure_years.\n",
    "# Колонка tenure теперь не нужна, так как вся необходимая информация о продолжительности пользования услугами компании содержится в колонке tenure_years.\n"
   ]
  },
  {
   "cell_type": "markdown",
   "metadata": {
    "id": "mX-4GEdHTZWd"
   },
   "source": [
    "# 7. Векторизация фичей\n",
    "Подготовка данных к обучению:"
   ]
  },
  {
   "cell_type": "markdown",
   "metadata": {
    "id": "x5cNxN2qq3SL"
   },
   "source": [
    "1. Преобразую текстовые колонки в числа, используя StringIndexer.\n",
    "Удаление столбцов со старыми (непреобразованными) признаками. Вывод на экран структуры получившегося датафрейма. Не забываю о столбце Churn. Хоть он и выступает в задаче как таргет, он имеет текстовый тип, поэтому тоже должен быть закодирован числовыми значениями.\n",
    "\n",
    "Чтобы использовать StringIndexer для всех категориальных признаков сразу, а не для каждого отдельно, можно применить сущность pipeline.\n",
    "\n",
    "**Пример кода:**\n",
    "\n",
    "##### #Задаём список текстовых колонок:\n",
    "text_columns = [\"text_col_1\", \"text_col_2\", \"text_col_3\"]\n",
    "\n",
    "##### #Задаём список StringIndexer'ов — сущностей, каждая из которых будет кодировать одну текстовую колонку числами. Имена преобразованных колонок будут заканчиваться на _index:\n",
    "indexers = [StringIndexer(inputCol=column, outputCol=column+\"_index\",).fit(<ваш датасет>) for column in text_columns]\n",
    "\n",
    "##### #Создаём Pipeline из StringIndexer'ов:\n",
    "pipeline = Pipeline(stages=indexers)\n",
    "\n",
    "##### #Скармливаем нашему pipeline датафрейм, удаляя старые колонки:\n",
    "new_dataframe = pipeline.fit(<ваш датасет>).transform(<ваш датасет>).drop(*text_columns)\n"
   ]
  },
  {
   "cell_type": "code",
   "execution_count": 16,
   "metadata": {
    "colab": {
     "base_uri": "https://localhost:8080/"
    },
    "id": "0XQ3pjdAcBIL",
    "outputId": "7be95b2b-67dd-4548-aae1-c408510fb6ab"
   },
   "outputs": [
    {
     "name": "stdout",
     "output_type": "stream",
     "text": [
      "root\n",
      " |-- MonthlyCharges: double (nullable = true)\n",
      " |-- TotalCharges: double (nullable = true)\n",
      " |-- tenure_years: double (nullable = true)\n",
      " |-- gender_index: double (nullable = false)\n",
      " |-- Partner_index: double (nullable = false)\n",
      " |-- Dependents_index: double (nullable = false)\n",
      " |-- PhoneService_index: double (nullable = false)\n",
      " |-- MultipleLines_index: double (nullable = false)\n",
      " |-- InternetService_index: double (nullable = false)\n",
      " |-- OnlineSecurity_index: double (nullable = false)\n",
      " |-- OnlineBackup_index: double (nullable = false)\n",
      " |-- DeviceProtection_index: double (nullable = false)\n",
      " |-- TechSupport_index: double (nullable = false)\n",
      " |-- StreamingTV_index: double (nullable = false)\n",
      " |-- StreamingMovies_index: double (nullable = false)\n",
      " |-- Contract_index: double (nullable = false)\n",
      " |-- PaperlessBilling_index: double (nullable = false)\n",
      " |-- PaymentMethod_index: double (nullable = false)\n",
      " |-- Churn_index: double (nullable = false)\n",
      "\n"
     ]
    }
   ],
   "source": [
    "from pyspark import mllib\n",
    "from pyspark.ml.feature import StringIndexer\n",
    "from pyspark.ml import Pipeline\n",
    "\n",
    "#список колонок с текстовым типом\n",
    "text_cols = [\"gender\", \"Partner\", \"Dependents\", \"PhoneService\", \"MultipleLines\", \"InternetService\", \\\n",
    "                \"OnlineSecurity\", \"OnlineBackup\", \"DeviceProtection\", \"TechSupport\", \"StreamingTV\", \\\n",
    "                \"StreamingMovies\", \"Contract\", \"PaperlessBilling\", \"PaymentMethod\", \"Churn\"]\n",
    "\n",
    "\n",
    "# Преобразую текстовые колонки в числовые значения\n",
    "indexers = [StringIndexer(inputCol=column, outputCol=column+\"_index\") for column in text_cols]\n",
    "\n",
    "#Создаю Pipeline из StringIndexer'ов:\n",
    "pipeline = Pipeline(stages=indexers)\n",
    "\n",
    "#Преобразую pipeline датафрейм, удаляя старые колонки:\n",
    "sparkDataframe3 = pipeline.fit(sparkDataframe2).transform(sparkDataframe2).drop(*text_cols)\n",
    "\n",
    "sparkDataframe3.printSchema()"
   ]
  },
  {
   "cell_type": "markdown",
   "metadata": {
    "id": "EEqoj7IcmB5H"
   },
   "source": [
    "2. Векторизуйю категориальные признаки, используя OneHotEncoder.\n",
    "Удаляю столбцы со старыми (непреобразованными) признаками.\n",
    "Вывод на экран структуры получившегося после преобразований датафрейма.\n"
   ]
  },
  {
   "cell_type": "code",
   "execution_count": 17,
   "metadata": {
    "id": "Gihv_Q00TkOD"
   },
   "outputs": [],
   "source": [
    "from pyspark.ml.feature import OneHotEncoder\n",
    "\n",
    "#список категориальных колонок\n",
    "features_inp  = [\"gender\", \"Partner\", \"Dependents\", \"PhoneService\", \"MultipleLines\", \"InternetService\", \\\n",
    "                \"OnlineSecurity\", \"OnlineBackup\", \"DeviceProtection\", \"TechSupport\", \"StreamingTV\", \\\n",
    "                \"StreamingMovies\", \"Contract\", \"PaperlessBilling\", \"PaymentMethod\"]\n",
    "\n",
    "features_inp = [s+'_index' for s in features_inp]\n",
    "\n",
    "features_out = [s+'_vec' for s in features_inp]\n",
    "\n",
    "encoder = OneHotEncoder(inputCols=features_inp, outputCols=features_out)"
   ]
  },
  {
   "cell_type": "code",
   "execution_count": 18,
   "metadata": {
    "colab": {
     "base_uri": "https://localhost:8080/"
    },
    "id": "g2zcFv379NrA",
    "outputId": "bd462506-a77c-4973-e787-57dca9aedd01"
   },
   "outputs": [
    {
     "name": "stdout",
     "output_type": "stream",
     "text": [
      "root\n",
      " |-- MonthlyCharges: double (nullable = true)\n",
      " |-- TotalCharges: double (nullable = true)\n",
      " |-- tenure_years: double (nullable = true)\n",
      " |-- gender_index: double (nullable = false)\n",
      " |-- Partner_index: double (nullable = false)\n",
      " |-- Dependents_index: double (nullable = false)\n",
      " |-- PhoneService_index: double (nullable = false)\n",
      " |-- MultipleLines_index: double (nullable = false)\n",
      " |-- InternetService_index: double (nullable = false)\n",
      " |-- OnlineSecurity_index: double (nullable = false)\n",
      " |-- OnlineBackup_index: double (nullable = false)\n",
      " |-- DeviceProtection_index: double (nullable = false)\n",
      " |-- TechSupport_index: double (nullable = false)\n",
      " |-- StreamingTV_index: double (nullable = false)\n",
      " |-- StreamingMovies_index: double (nullable = false)\n",
      " |-- Contract_index: double (nullable = false)\n",
      " |-- PaperlessBilling_index: double (nullable = false)\n",
      " |-- PaymentMethod_index: double (nullable = false)\n",
      " |-- Churn_index: double (nullable = false)\n",
      " |-- gender_index_vec: vector (nullable = true)\n",
      " |-- Partner_index_vec: vector (nullable = true)\n",
      " |-- Dependents_index_vec: vector (nullable = true)\n",
      " |-- PhoneService_index_vec: vector (nullable = true)\n",
      " |-- MultipleLines_index_vec: vector (nullable = true)\n",
      " |-- InternetService_index_vec: vector (nullable = true)\n",
      " |-- OnlineSecurity_index_vec: vector (nullable = true)\n",
      " |-- OnlineBackup_index_vec: vector (nullable = true)\n",
      " |-- DeviceProtection_index_vec: vector (nullable = true)\n",
      " |-- TechSupport_index_vec: vector (nullable = true)\n",
      " |-- StreamingTV_index_vec: vector (nullable = true)\n",
      " |-- StreamingMovies_index_vec: vector (nullable = true)\n",
      " |-- Contract_index_vec: vector (nullable = true)\n",
      " |-- PaperlessBilling_index_vec: vector (nullable = true)\n",
      " |-- PaymentMethod_index_vec: vector (nullable = true)\n",
      "\n"
     ]
    }
   ],
   "source": [
    "encoded = encoder.fit(sparkDataframe3)\n",
    "sparkDataframe3 = encoded.transform(sparkDataframe3).drop(\"PhoneService\", \"MultipleLines\", \"InternetService\", \\\n",
    "               \"OnlineSecurity\", \"OnlineBackup\", \"DeviceProtection\", \"TechSupport\", \"StreamingTV\", \\\n",
    "               \"StreamingMovies\", \"Contract\", \"PaymentMethod\")\n",
    "\n",
    "\n",
    "sparkDataframe3.printSchema()"
   ]
  },
  {
   "cell_type": "markdown",
   "metadata": {
    "id": "WscurK1IoJ8w"
   },
   "source": [
    "3. Объединение колонки фичей в один вектор, используя VectorAssembler.\n",
    "Удаление столбцов со старыми (непреобразованными) признаками.\n",
    "Вывод на экран первых несколько строк и структуры получившегося датафрейма."
   ]
  },
  {
   "cell_type": "code",
   "execution_count": 19,
   "metadata": {
    "colab": {
     "base_uri": "https://localhost:8080/"
    },
    "id": "wOm-Te9bYMia",
    "outputId": "f9222f78-67e0-4152-c1eb-bc3cd44a2727"
   },
   "outputs": [
    {
     "name": "stdout",
     "output_type": "stream",
     "text": [
      "+--------------+------------+-------------------+------------+-------------+----------------+------------------+-------------------+---------------------+--------------------+------------------+----------------------+-----------------+-----------------+---------------------+--------------+----------------------+-------------------+-----------+----------------+-----------------+--------------------+----------------------+-----------------------+-------------------------+------------------------+----------------------+--------------------------+---------------------+---------------------+-------------------------+------------------+--------------------------+-----------------------+--------------------+\n",
      "|MonthlyCharges|TotalCharges|       tenure_years|gender_index|Partner_index|Dependents_index|PhoneService_index|MultipleLines_index|InternetService_index|OnlineSecurity_index|OnlineBackup_index|DeviceProtection_index|TechSupport_index|StreamingTV_index|StreamingMovies_index|Contract_index|PaperlessBilling_index|PaymentMethod_index|Churn_index|gender_index_vec|Partner_index_vec|Dependents_index_vec|PhoneService_index_vec|MultipleLines_index_vec|InternetService_index_vec|OnlineSecurity_index_vec|OnlineBackup_index_vec|DeviceProtection_index_vec|TechSupport_index_vec|StreamingTV_index_vec|StreamingMovies_index_vec|Contract_index_vec|PaperlessBilling_index_vec|PaymentMethod_index_vec|        features_vec|\n",
      "+--------------+------------+-------------------+------------+-------------+----------------+------------------+-------------------+---------------------+--------------------+------------------+----------------------+-----------------+-----------------+---------------------+--------------+----------------------+-------------------+-----------+----------------+-----------------+--------------------+----------------------+-----------------------+-------------------------+------------------------+----------------------+--------------------------+---------------------+---------------------+-------------------------+------------------+--------------------------+-----------------------+--------------------+\n",
      "|         29.85|       29.85|0.08333333333333333|         1.0|          1.0|             0.0|               1.0|                2.0|                  1.0|                 0.0|               1.0|                   0.0|              0.0|              0.0|                  0.0|           0.0|                   0.0|                0.0|        0.0|       (1,[],[])|        (1,[],[])|       (1,[0],[1.0])|             (1,[],[])|              (2,[],[])|            (2,[1],[1.0])|           (2,[0],[1.0])|         (2,[1],[1.0])|             (2,[0],[1.0])|        (2,[0],[1.0])|        (2,[0],[1.0])|            (2,[0],[1.0])|     (2,[0],[1.0])|             (1,[0],[1.0])|          (3,[0],[1.0])|(44,[0,1,2,3,4,6,...|\n",
      "|         56.95|      1889.5| 2.8333333333333335|         0.0|          0.0|             0.0|               0.0|                0.0|                  1.0|                 1.0|               0.0|                   1.0|              0.0|              0.0|                  0.0|           2.0|                   1.0|                1.0|        0.0|   (1,[0],[1.0])|    (1,[0],[1.0])|       (1,[0],[1.0])|         (1,[0],[1.0])|          (2,[0],[1.0])|            (2,[1],[1.0])|           (2,[1],[1.0])|         (2,[0],[1.0])|             (2,[1],[1.0])|        (2,[0],[1.0])|        (2,[0],[1.0])|            (2,[0],[1.0])|         (2,[],[])|                 (1,[],[])|          (3,[1],[1.0])|(44,[0,1,2,8,9,11...|\n",
      "|         53.85|      108.15|0.16666666666666666|         0.0|          0.0|             0.0|               0.0|                0.0|                  1.0|                 1.0|               1.0|                   0.0|              0.0|              0.0|                  0.0|           0.0|                   0.0|                1.0|        1.0|   (1,[0],[1.0])|    (1,[0],[1.0])|       (1,[0],[1.0])|         (1,[0],[1.0])|          (2,[0],[1.0])|            (2,[1],[1.0])|           (2,[1],[1.0])|         (2,[1],[1.0])|             (2,[0],[1.0])|        (2,[0],[1.0])|        (2,[0],[1.0])|            (2,[0],[1.0])|     (2,[0],[1.0])|             (1,[0],[1.0])|          (3,[1],[1.0])|(44,[0,1,2,8,9,10...|\n",
      "|          42.3|     1840.75|               3.75|         0.0|          0.0|             0.0|               1.0|                2.0|                  1.0|                 1.0|               0.0|                   1.0|              1.0|              0.0|                  0.0|           2.0|                   1.0|                2.0|        0.0|   (1,[0],[1.0])|    (1,[0],[1.0])|       (1,[0],[1.0])|             (1,[],[])|              (2,[],[])|            (2,[1],[1.0])|           (2,[1],[1.0])|         (2,[0],[1.0])|             (2,[1],[1.0])|        (2,[1],[1.0])|        (2,[0],[1.0])|            (2,[0],[1.0])|         (2,[],[])|                 (1,[],[])|          (3,[2],[1.0])|(44,[0,1,2,6,7,8,...|\n",
      "|          70.7|      151.65|0.16666666666666666|         1.0|          0.0|             0.0|               0.0|                0.0|                  0.0|                 0.0|               0.0|                   0.0|              0.0|              0.0|                  0.0|           0.0|                   0.0|                0.0|        1.0|       (1,[],[])|    (1,[0],[1.0])|       (1,[0],[1.0])|         (1,[0],[1.0])|          (2,[0],[1.0])|            (2,[0],[1.0])|           (2,[0],[1.0])|         (2,[0],[1.0])|             (2,[0],[1.0])|        (2,[0],[1.0])|        (2,[0],[1.0])|            (2,[0],[1.0])|     (2,[0],[1.0])|             (1,[0],[1.0])|          (3,[0],[1.0])|(44,[0,1,2,3,19,2...|\n",
      "|         99.65|       820.5| 0.6666666666666666|         1.0|          0.0|             0.0|               0.0|                1.0|                  0.0|                 0.0|               0.0|                   1.0|              0.0|              1.0|                  1.0|           0.0|                   0.0|                0.0|        1.0|       (1,[],[])|    (1,[0],[1.0])|       (1,[0],[1.0])|         (1,[0],[1.0])|          (2,[1],[1.0])|            (2,[0],[1.0])|           (2,[0],[1.0])|         (2,[0],[1.0])|             (2,[1],[1.0])|        (2,[0],[1.0])|        (2,[1],[1.0])|            (2,[1],[1.0])|     (2,[0],[1.0])|             (1,[0],[1.0])|          (3,[0],[1.0])|(44,[0,1,2,3,7,11...|\n",
      "|          89.1|      1949.4| 1.8333333333333333|         0.0|          0.0|             1.0|               0.0|                1.0|                  0.0|                 0.0|               1.0|                   0.0|              0.0|              1.0|                  0.0|           0.0|                   0.0|                3.0|        0.0|   (1,[0],[1.0])|    (1,[0],[1.0])|           (1,[],[])|         (1,[0],[1.0])|          (2,[1],[1.0])|            (2,[0],[1.0])|           (2,[0],[1.0])|         (2,[1],[1.0])|             (2,[0],[1.0])|        (2,[0],[1.0])|        (2,[1],[1.0])|            (2,[0],[1.0])|     (2,[0],[1.0])|             (1,[0],[1.0])|              (3,[],[])|(44,[0,1,2,5,7,10...|\n",
      "|         29.75|       301.9| 0.8333333333333334|         1.0|          0.0|             0.0|               1.0|                2.0|                  1.0|                 1.0|               0.0|                   0.0|              0.0|              0.0|                  0.0|           0.0|                   1.0|                1.0|        0.0|       (1,[],[])|    (1,[0],[1.0])|       (1,[0],[1.0])|             (1,[],[])|              (2,[],[])|            (2,[1],[1.0])|           (2,[1],[1.0])|         (2,[0],[1.0])|             (2,[0],[1.0])|        (2,[0],[1.0])|        (2,[0],[1.0])|            (2,[0],[1.0])|     (2,[0],[1.0])|                 (1,[],[])|          (3,[1],[1.0])|(44,[0,1,2,3,6,7,...|\n",
      "|         104.8|     3046.05| 2.3333333333333335|         1.0|          1.0|             0.0|               0.0|                1.0|                  0.0|                 0.0|               0.0|                   1.0|              1.0|              1.0|                  1.0|           0.0|                   0.0|                0.0|        1.0|       (1,[],[])|        (1,[],[])|       (1,[0],[1.0])|         (1,[0],[1.0])|          (2,[1],[1.0])|            (2,[0],[1.0])|           (2,[0],[1.0])|         (2,[0],[1.0])|             (2,[1],[1.0])|        (2,[1],[1.0])|        (2,[1],[1.0])|            (2,[1],[1.0])|     (2,[0],[1.0])|             (1,[0],[1.0])|          (3,[0],[1.0])|(44,[0,1,2,3,4,7,...|\n",
      "|         56.15|     3487.95|  5.166666666666667|         0.0|          0.0|             1.0|               0.0|                0.0|                  1.0|                 1.0|               1.0|                   0.0|              0.0|              0.0|                  0.0|           2.0|                   1.0|                2.0|        0.0|   (1,[0],[1.0])|    (1,[0],[1.0])|           (1,[],[])|         (1,[0],[1.0])|          (2,[0],[1.0])|            (2,[1],[1.0])|           (2,[1],[1.0])|         (2,[1],[1.0])|             (2,[0],[1.0])|        (2,[0],[1.0])|        (2,[0],[1.0])|            (2,[0],[1.0])|         (2,[],[])|                 (1,[],[])|          (3,[2],[1.0])|(44,[0,1,2,5,8,9,...|\n",
      "|         49.95|      587.45| 1.0833333333333333|         0.0|          1.0|             1.0|               0.0|                0.0|                  1.0|                 1.0|               0.0|                   0.0|              0.0|              0.0|                  0.0|           0.0|                   0.0|                1.0|        0.0|   (1,[0],[1.0])|        (1,[],[])|           (1,[],[])|         (1,[0],[1.0])|          (2,[0],[1.0])|            (2,[1],[1.0])|           (2,[1],[1.0])|         (2,[0],[1.0])|             (2,[0],[1.0])|        (2,[0],[1.0])|        (2,[0],[1.0])|            (2,[0],[1.0])|     (2,[0],[1.0])|             (1,[0],[1.0])|          (3,[1],[1.0])|(44,[0,1,2,4,5,8,...|\n",
      "|         18.95|       326.8| 1.3333333333333333|         0.0|          0.0|             0.0|               0.0|                0.0|                  2.0|                 2.0|               2.0|                   2.0|              2.0|              2.0|                  2.0|           1.0|                   1.0|                3.0|        0.0|   (1,[0],[1.0])|    (1,[0],[1.0])|       (1,[0],[1.0])|         (1,[0],[1.0])|          (2,[0],[1.0])|                (2,[],[])|               (2,[],[])|             (2,[],[])|                 (2,[],[])|            (2,[],[])|            (2,[],[])|                (2,[],[])|     (2,[1],[1.0])|                 (1,[],[])|              (3,[],[])|(44,[0,1,2,8,9,10...|\n",
      "|        100.35|      5681.1|  4.833333333333333|         0.0|          1.0|             0.0|               0.0|                1.0|                  0.0|                 0.0|               0.0|                   1.0|              0.0|              1.0|                  1.0|           2.0|                   1.0|                3.0|        0.0|   (1,[0],[1.0])|        (1,[],[])|       (1,[0],[1.0])|         (1,[0],[1.0])|          (2,[1],[1.0])|            (2,[0],[1.0])|           (2,[0],[1.0])|         (2,[0],[1.0])|             (2,[1],[1.0])|        (2,[0],[1.0])|        (2,[1],[1.0])|            (2,[1],[1.0])|         (2,[],[])|                 (1,[],[])|              (3,[],[])|(44,[0,1,2,4,7,11...|\n",
      "|         103.7|      5036.3|  4.083333333333333|         0.0|          0.0|             0.0|               0.0|                1.0|                  0.0|                 0.0|               1.0|                   1.0|              0.0|              1.0|                  1.0|           0.0|                   0.0|                2.0|        1.0|   (1,[0],[1.0])|    (1,[0],[1.0])|       (1,[0],[1.0])|         (1,[0],[1.0])|          (2,[1],[1.0])|            (2,[0],[1.0])|           (2,[0],[1.0])|         (2,[1],[1.0])|             (2,[1],[1.0])|        (2,[0],[1.0])|        (2,[1],[1.0])|            (2,[1],[1.0])|     (2,[0],[1.0])|             (1,[0],[1.0])|          (3,[2],[1.0])|(44,[0,1,2,7,10,1...|\n",
      "|         105.5|     2686.05| 2.0833333333333335|         0.0|          0.0|             0.0|               0.0|                0.0|                  0.0|                 1.0|               0.0|                   1.0|              1.0|              1.0|                  1.0|           0.0|                   0.0|                0.0|        0.0|   (1,[0],[1.0])|    (1,[0],[1.0])|       (1,[0],[1.0])|         (1,[0],[1.0])|          (2,[0],[1.0])|            (2,[0],[1.0])|           (2,[1],[1.0])|         (2,[0],[1.0])|             (2,[1],[1.0])|        (2,[1],[1.0])|        (2,[1],[1.0])|            (2,[1],[1.0])|     (2,[0],[1.0])|             (1,[0],[1.0])|          (3,[0],[1.0])|(44,[0,1,2,9,11,1...|\n",
      "|        113.25|     7895.15|               5.75|         1.0|          1.0|             1.0|               0.0|                1.0|                  0.0|                 1.0|               1.0|                   1.0|              1.0|              1.0|                  1.0|           1.0|                   1.0|                3.0|        0.0|       (1,[],[])|        (1,[],[])|           (1,[],[])|         (1,[0],[1.0])|          (2,[1],[1.0])|            (2,[0],[1.0])|           (2,[1],[1.0])|         (2,[1],[1.0])|             (2,[1],[1.0])|        (2,[1],[1.0])|        (2,[1],[1.0])|            (2,[1],[1.0])|     (2,[1],[1.0])|                 (1,[],[])|              (3,[],[])|(44,[0,1,2,3,4,5,...|\n",
      "|         20.65|     1022.95|  4.333333333333333|         1.0|          0.0|             0.0|               0.0|                0.0|                  2.0|                 2.0|               2.0|                   2.0|              2.0|              2.0|                  2.0|           2.0|                   1.0|                1.0|        0.0|       (1,[],[])|    (1,[0],[1.0])|       (1,[0],[1.0])|         (1,[0],[1.0])|          (2,[0],[1.0])|                (2,[],[])|               (2,[],[])|             (2,[],[])|                 (2,[],[])|            (2,[],[])|            (2,[],[])|                (2,[],[])|         (2,[],[])|                 (1,[],[])|          (3,[1],[1.0])|(44,[0,1,2,3,8,9,...|\n",
      "|         106.7|     7382.25|  5.916666666666667|         0.0|          0.0|             1.0|               0.0|                1.0|                  0.0|                 1.0|               0.0|                   1.0|              0.0|              1.0|                  1.0|           1.0|                   1.0|                2.0|        0.0|   (1,[0],[1.0])|    (1,[0],[1.0])|           (1,[],[])|         (1,[0],[1.0])|          (2,[1],[1.0])|            (2,[0],[1.0])|           (2,[1],[1.0])|         (2,[0],[1.0])|             (2,[1],[1.0])|        (2,[0],[1.0])|        (2,[1],[1.0])|            (2,[1],[1.0])|     (2,[1],[1.0])|                 (1,[],[])|          (3,[2],[1.0])|(44,[0,1,2,5,7,9,...|\n",
      "|          55.2|      528.35| 0.8333333333333334|         1.0|          1.0|             1.0|               0.0|                0.0|                  1.0|                 0.0|               0.0|                   1.0|              1.0|              0.0|                  0.0|           0.0|                   1.0|                3.0|        1.0|       (1,[],[])|        (1,[],[])|           (1,[],[])|         (1,[0],[1.0])|          (2,[0],[1.0])|            (2,[1],[1.0])|           (2,[0],[1.0])|         (2,[0],[1.0])|             (2,[1],[1.0])|        (2,[1],[1.0])|        (2,[0],[1.0])|            (2,[0],[1.0])|     (2,[0],[1.0])|                 (1,[],[])|              (3,[],[])|(44,[0,1,2,3,4,5,...|\n",
      "|         90.05|      1862.9|               1.75|         1.0|          0.0|             0.0|               0.0|                0.0|                  0.0|                 0.0|               1.0|                   1.0|              0.0|              0.0|                  1.0|           0.0|                   0.0|                0.0|        0.0|       (1,[],[])|    (1,[0],[1.0])|       (1,[0],[1.0])|         (1,[0],[1.0])|          (2,[0],[1.0])|            (2,[0],[1.0])|           (2,[0],[1.0])|         (2,[1],[1.0])|             (2,[1],[1.0])|        (2,[0],[1.0])|        (2,[0],[1.0])|            (2,[1],[1.0])|     (2,[0],[1.0])|             (1,[0],[1.0])|          (3,[0],[1.0])|(44,[0,1,2,3,10,1...|\n",
      "+--------------+------------+-------------------+------------+-------------+----------------+------------------+-------------------+---------------------+--------------------+------------------+----------------------+-----------------+-----------------+---------------------+--------------+----------------------+-------------------+-----------+----------------+-----------------+--------------------+----------------------+-----------------------+-------------------------+------------------------+----------------------+--------------------------+---------------------+---------------------+-------------------------+------------------+--------------------------+-----------------------+--------------------+\n",
      "only showing top 20 rows\n",
      "\n",
      "+--------------------+-----------+\n",
      "|        features_vec|Churn_index|\n",
      "+--------------------+-----------+\n",
      "|(44,[0,1,2,3,4,6,...|        0.0|\n",
      "|(44,[0,1,2,8,9,11...|        0.0|\n",
      "|(44,[0,1,2,8,9,10...|        1.0|\n",
      "|(44,[0,1,2,6,7,8,...|        0.0|\n",
      "|(44,[0,1,2,3,19,2...|        1.0|\n",
      "|(44,[0,1,2,3,7,11...|        1.0|\n",
      "|(44,[0,1,2,5,7,10...|        0.0|\n",
      "|(44,[0,1,2,3,6,7,...|        0.0|\n",
      "|(44,[0,1,2,3,4,7,...|        1.0|\n",
      "|(44,[0,1,2,5,8,9,...|        0.0|\n",
      "|(44,[0,1,2,4,5,8,...|        0.0|\n",
      "|(44,[0,1,2,8,9,10...|        0.0|\n",
      "|(44,[0,1,2,4,7,11...|        0.0|\n",
      "|(44,[0,1,2,7,10,1...|        1.0|\n",
      "|(44,[0,1,2,9,11,1...|        0.0|\n",
      "|(44,[0,1,2,3,4,5,...|        0.0|\n",
      "|(44,[0,1,2,3,8,9,...|        0.0|\n",
      "|(44,[0,1,2,5,7,9,...|        0.0|\n",
      "|(44,[0,1,2,3,4,5,...|        1.0|\n",
      "|(44,[0,1,2,3,10,1...|        0.0|\n",
      "+--------------------+-----------+\n",
      "only showing top 20 rows\n",
      "\n"
     ]
    }
   ],
   "source": [
    "from pyspark.ml.feature import VectorAssembler\n",
    "\n",
    "features = list(sparkDataframe3.drop(\"Churn_index\").columns) #Список колонок фичей\n",
    "\n",
    "vectorizer = VectorAssembler(inputCols = features, outputCol = \"features_vec\")\n",
    "#Создаю переменную vectorizer — объект класса VectorAssembler, цель которого — превратить колонки с фичами в векторы\n",
    "\n",
    "new_df = vectorizer.transform(sparkDataframe3)\n",
    "#Трансформирую при помощи vectorizer датафрейм и сохраняю его в переменную telecom_vectorised\n",
    "\n",
    "new_df.show()\n",
    "\n",
    "new_df.select(\"features_vec\",\"Churn_index\").show()"
   ]
  },
  {
   "cell_type": "markdown",
   "metadata": {
    "id": "uk_1ZJjDqm02"
   },
   "source": [
    "# 8. Создание и обучение модели"
   ]
  },
  {
   "cell_type": "markdown",
   "metadata": {
    "id": "fMsi-JYVqvkX"
   },
   "source": [
    "1. Создаю модель — логистическую регрессию (используя LogisticRegression). В качестве параметров класса LogisticRegression укажите колонку фичей (параметр featuresCol), колонку-таргет (параметр labelCol) из датафрейма и имя колонки, в которую будут записываться предсказания (параметр predictionCol)."
   ]
  },
  {
   "cell_type": "code",
   "execution_count": 20,
   "metadata": {
    "id": "siYFALNhq_9F"
   },
   "outputs": [],
   "source": [
    "from pyspark.ml.classification import LogisticRegression\n",
    "\n",
    "# Создаю модель логистической регрессии\n",
    "lr = LogisticRegression(featuresCol=\"features_vec\", labelCol=\"Churn_index\", predictionCol=\"prediction\")\n"
   ]
  },
  {
   "cell_type": "markdown",
   "metadata": {
    "id": "OCG0euR8v33u"
   },
   "source": [
    "2. Разделяю датафрейм на обучающую и тестовую выборку."
   ]
  },
  {
   "cell_type": "code",
   "execution_count": 21,
   "metadata": {
    "id": "g9PoHvGqvvET"
   },
   "outputs": [],
   "source": [
    "# Разделение данных на обучающую и тестовую выборки\n",
    "train_data, test_data = new_df.randomSplit([0.8, 0.2], seed=1234)"
   ]
  },
  {
   "cell_type": "markdown",
   "metadata": {
    "id": "MyGEK9T_wGWd"
   },
   "source": [
    "3. Создание объекта — сетки гиперпараметров для каждой модели, используя ParamGridBuilder. В сетку гиперпараметров можно добавить значения параметров regParam и elasticNetParam."
   ]
  },
  {
   "cell_type": "code",
   "execution_count": 22,
   "metadata": {
    "id": "LsRwAy1TwDzF"
   },
   "outputs": [],
   "source": [
    "from pyspark.ml.tuning import ParamGridBuilder\n",
    "\n",
    "# Создание сетки гиперпараметров\n",
    "paramGrid = (ParamGridBuilder()\n",
    "             .addGrid(lr.regParam, [0.01, 0.1, 1.0])\n",
    "             .addGrid(lr.elasticNetParam, [0.0, 0.5, 1.0])\n",
    "             .build())"
   ]
  },
  {
   "cell_type": "markdown",
   "metadata": {
    "id": "zg0lwkdoJjaQ"
   },
   "source": [
    "4. Создание объекта evaluator, который будет отвечать за метрику качества при обучении. Для этого использую класс BinaryClassificationEvaluator со следующими параметрами: rawPredictionCol — колонка с предсказаниями, labelCol — колонка с таргетом.\n",
    "\n",
    "По умолчанию BinaryClassificationEvaluator будет рассчитывать areaUnderROC. Это метрика оценки площади под кривой ROC (Receiver Operating Characteristic), которая служит графической интерпретацией производительности модели. Эта метрика качества находится в пределах от 0 до 1. Чем выше метрика, тем более качественные предсказания делает модель."
   ]
  },
  {
   "cell_type": "code",
   "execution_count": 23,
   "metadata": {
    "id": "RrGPelUqMeoz"
   },
   "outputs": [],
   "source": [
    "from pyspark.ml.evaluation import BinaryClassificationEvaluator\n",
    "\n",
    "# Создание объекта evaluator для оценки модели\n",
    "evaluate = BinaryClassificationEvaluator(rawPredictionCol=\"rawPrediction\", labelCol=\"Churn_index\")"
   ]
  },
  {
   "cell_type": "markdown",
   "metadata": {
    "id": "7urf-OeRMTdC"
   },
   "source": [
    "5. Создание объекта CrossValidator, в качестве параметров указывю уже созданную модель, сетку гиперпараметров и evaluator."
   ]
  },
  {
   "cell_type": "code",
   "execution_count": 24,
   "metadata": {
    "id": "CtmsG_rxSOOr"
   },
   "outputs": [],
   "source": [
    "from pyspark.ml.tuning import CrossValidator\n",
    "\n",
    "# Создание объекта CrossValidator\n",
    "crossval = CrossValidator(estimator=lr,\n",
    "                          estimatorParamMaps=paramGrid,\n",
    "                          evaluator=evaluate,\n",
    "                          numFolds=5)  # Указываем количество фолдов для кросс-валидации\n"
   ]
  },
  {
   "cell_type": "markdown",
   "metadata": {
    "id": "Jmpv70TjZByl"
   },
   "source": [
    "6. Запуск обучения модели на тренировочной выборке. Сохранение обученной модели в новую переменную."
   ]
  },
  {
   "cell_type": "code",
   "execution_count": 25,
   "metadata": {
    "id": "uUxWevjEYOvX"
   },
   "outputs": [],
   "source": [
    "# Обучение модели с использованием CrossValidator и сохранение обученной модели в переменную\n",
    "cv_model = crossval.fit(train_data)"
   ]
  },
  {
   "cell_type": "markdown",
   "metadata": {
    "id": "WaIi8In5Zykn"
   },
   "source": [
    "# 9. Выбор лучшей модели"
   ]
  },
  {
   "cell_type": "markdown",
   "metadata": {
    "id": "29eo5S_KZL4k"
   },
   "source": [
    "1. Выбор лучшей модели, сохранение её в отдельную переменную, отображение её параметров.\n",
    "\n",
    "Вывод параметров модели в PySpark можно сделать, используя метод extractParamMap()."
   ]
  },
  {
   "cell_type": "code",
   "execution_count": 26,
   "metadata": {
    "colab": {
     "base_uri": "https://localhost:8080/"
    },
    "id": "kJK-IrWLZbL-",
    "outputId": "b3e2ef32-c8b0-4da3-f91f-a8a7e8c1c46d"
   },
   "outputs": [
    {
     "name": "stdout",
     "output_type": "stream",
     "text": [
      "Best Model Parameters:\n",
      "aggregationDepth: 2\n",
      "elasticNetParam: 0.5\n",
      "family: auto\n",
      "featuresCol: features_vec\n",
      "fitIntercept: True\n",
      "labelCol: Churn_index\n",
      "maxBlockSizeInMB: 0.0\n",
      "maxIter: 100\n",
      "predictionCol: prediction\n",
      "probabilityCol: probability\n",
      "rawPredictionCol: rawPrediction\n",
      "regParam: 0.01\n",
      "standardization: True\n",
      "threshold: 0.5\n",
      "tol: 1e-06\n"
     ]
    }
   ],
   "source": [
    "best_model = cv_model.bestModel\n",
    "\n",
    "print(\"Best Model Parameters:\")\n",
    "for param, value in best_model.extractParamMap().items():\n",
    "    print(f\"{param.name}: {value}\")"
   ]
  },
  {
   "cell_type": "markdown",
   "metadata": {
    "id": "1BIe8gqugBds"
   },
   "source": [
    "2. Запуск лучшей модели в режиме предсказания на тестовой выборке. Сохранение предсказания в отдельную переменную. Вывод первых несколько строк датафрейма с предсказаниями на экран.\n",
    "\n",
    "Запуск модели в режиме предсказания выполняется при помощи метода .transform(<тестовая выборка>)."
   ]
  },
  {
   "cell_type": "code",
   "execution_count": 27,
   "metadata": {
    "colab": {
     "base_uri": "https://localhost:8080/"
    },
    "id": "_K1IrbNzd1FX",
    "outputId": "799b155f-5278-4885-c8ad-af0cb4a9a230"
   },
   "outputs": [
    {
     "name": "stdout",
     "output_type": "stream",
     "text": [
      "+--------------+------------+-------------------+------------+-------------+----------------+------------------+-------------------+---------------------+--------------------+------------------+----------------------+-----------------+-----------------+---------------------+--------------+----------------------+-------------------+-----------+----------------+-----------------+--------------------+----------------------+-----------------------+-------------------------+------------------------+----------------------+--------------------------+---------------------+---------------------+-------------------------+------------------+--------------------------+-----------------------+--------------------+--------------------+--------------------+----------+\n",
      "|MonthlyCharges|TotalCharges|       tenure_years|gender_index|Partner_index|Dependents_index|PhoneService_index|MultipleLines_index|InternetService_index|OnlineSecurity_index|OnlineBackup_index|DeviceProtection_index|TechSupport_index|StreamingTV_index|StreamingMovies_index|Contract_index|PaperlessBilling_index|PaymentMethod_index|Churn_index|gender_index_vec|Partner_index_vec|Dependents_index_vec|PhoneService_index_vec|MultipleLines_index_vec|InternetService_index_vec|OnlineSecurity_index_vec|OnlineBackup_index_vec|DeviceProtection_index_vec|TechSupport_index_vec|StreamingTV_index_vec|StreamingMovies_index_vec|Contract_index_vec|PaperlessBilling_index_vec|PaymentMethod_index_vec|        features_vec|       rawPrediction|         probability|prediction|\n",
      "+--------------+------------+-------------------+------------+-------------+----------------+------------------+-------------------+---------------------+--------------------+------------------+----------------------+-----------------+-----------------+---------------------+--------------+----------------------+-------------------+-----------+----------------+-----------------+--------------------+----------------------+-----------------------+-------------------------+------------------------+----------------------+--------------------------+---------------------+---------------------+-------------------------+------------------+--------------------------+-----------------------+--------------------+--------------------+--------------------+----------+\n",
      "|         18.25|       534.7| 2.3333333333333335|         0.0|          0.0|             0.0|               0.0|                0.0|                  2.0|                 2.0|               2.0|                   2.0|              2.0|              2.0|                  2.0|           2.0|                   1.0|                3.0|        0.0|   (1,[0],[1.0])|    (1,[0],[1.0])|       (1,[0],[1.0])|         (1,[0],[1.0])|          (2,[0],[1.0])|                (2,[],[])|               (2,[],[])|             (2,[],[])|                 (2,[],[])|            (2,[],[])|            (2,[],[])|                (2,[],[])|         (2,[],[])|                 (1,[],[])|              (3,[],[])|(44,[0,1,2,8,9,10...|[3.06624122061363...|[0.95547855007118...|       0.0|\n",
      "|         18.55|       689.0|                3.0|         0.0|          0.0|             0.0|               0.0|                0.0|                  2.0|                 2.0|               2.0|                   2.0|              2.0|              2.0|                  2.0|           1.0|                   0.0|                3.0|        0.0|   (1,[0],[1.0])|    (1,[0],[1.0])|       (1,[0],[1.0])|         (1,[0],[1.0])|          (2,[0],[1.0])|                (2,[],[])|               (2,[],[])|             (2,[],[])|                 (2,[],[])|            (2,[],[])|            (2,[],[])|                (2,[],[])|     (2,[1],[1.0])|             (1,[0],[1.0])|              (3,[],[])|(44,[0,1,2,8,9,10...|[3.54941130764605...|[0.97206144295465...|       0.0|\n",
      "|          18.7|      383.65| 2.0833333333333335|         1.0|          1.0|             1.0|               0.0|                0.0|                  2.0|                 2.0|               2.0|                   2.0|              2.0|              2.0|                  2.0|           1.0|                   0.0|                1.0|        0.0|       (1,[],[])|        (1,[],[])|           (1,[],[])|         (1,[0],[1.0])|          (2,[0],[1.0])|                (2,[],[])|               (2,[],[])|             (2,[],[])|                 (2,[],[])|            (2,[],[])|            (2,[],[])|                (2,[],[])|     (2,[1],[1.0])|             (1,[0],[1.0])|          (3,[1],[1.0])|(44,[0,1,2,3,4,5,...|[3.26400961595699...|[0.96317327827289...|       0.0|\n",
      "|         18.75|       53.15|0.16666666666666666|         1.0|          0.0|             0.0|               0.0|                0.0|                  2.0|                 2.0|               2.0|                   2.0|              2.0|              2.0|                  2.0|           0.0|                   1.0|                2.0|        0.0|       (1,[],[])|    (1,[0],[1.0])|       (1,[0],[1.0])|         (1,[0],[1.0])|          (2,[0],[1.0])|                (2,[],[])|               (2,[],[])|             (2,[],[])|                 (2,[],[])|            (2,[],[])|            (2,[],[])|                (2,[],[])|     (2,[0],[1.0])|                 (1,[],[])|          (3,[2],[1.0])|(44,[0,1,2,3,8,9,...|[1.54484222767159...|[0.82416754043942...|       0.0|\n",
      "|          18.8|        18.8|0.08333333333333333|         0.0|          1.0|             1.0|               0.0|                0.0|                  2.0|                 2.0|               2.0|                   2.0|              2.0|              2.0|                  2.0|           2.0|                   1.0|                1.0|        0.0|   (1,[0],[1.0])|        (1,[],[])|           (1,[],[])|         (1,[0],[1.0])|          (2,[0],[1.0])|                (2,[],[])|               (2,[],[])|             (2,[],[])|                 (2,[],[])|            (2,[],[])|            (2,[],[])|                (2,[],[])|         (2,[],[])|                 (1,[],[])|          (3,[1],[1.0])|(44,[0,1,2,4,5,8,...|[2.31483247253973...|[0.91009803065705...|       0.0|\n",
      "|          18.8|        56.0|               0.25|         1.0|          0.0|             0.0|               0.0|                0.0|                  2.0|                 2.0|               2.0|                   2.0|              2.0|              2.0|                  2.0|           0.0|                   1.0|                1.0|        0.0|       (1,[],[])|    (1,[0],[1.0])|       (1,[0],[1.0])|         (1,[0],[1.0])|          (2,[0],[1.0])|                (2,[],[])|               (2,[],[])|             (2,[],[])|                 (2,[],[])|            (2,[],[])|            (2,[],[])|                (2,[],[])|     (2,[0],[1.0])|                 (1,[],[])|          (3,[1],[1.0])|(44,[0,1,2,3,8,9,...|[1.54100595527531...|[0.82361091393337...|       0.0|\n",
      "|          18.8|      251.25| 1.0833333333333333|         1.0|          1.0|             1.0|               0.0|                0.0|                  2.0|                 2.0|               2.0|                   2.0|              2.0|              2.0|                  2.0|           0.0|                   1.0|                1.0|        0.0|       (1,[],[])|        (1,[],[])|           (1,[],[])|         (1,[0],[1.0])|          (2,[0],[1.0])|                (2,[],[])|               (2,[],[])|             (2,[],[])|                 (2,[],[])|            (2,[],[])|            (2,[],[])|                (2,[],[])|     (2,[0],[1.0])|                 (1,[],[])|          (3,[1],[1.0])|(44,[0,1,2,3,4,5,...|[1.93316195193203...|[0.87359898726864...|       0.0|\n",
      "|          18.8|      255.55| 1.1666666666666667|         1.0|          1.0|             1.0|               0.0|                0.0|                  2.0|                 2.0|               2.0|                   2.0|              2.0|              2.0|                  2.0|           1.0|                   1.0|                1.0|        0.0|       (1,[],[])|        (1,[],[])|           (1,[],[])|         (1,[0],[1.0])|          (2,[0],[1.0])|                (2,[],[])|               (2,[],[])|             (2,[],[])|                 (2,[],[])|            (2,[],[])|            (2,[],[])|                (2,[],[])|     (2,[1],[1.0])|                 (1,[],[])|          (3,[1],[1.0])|(44,[0,1,2,3,4,5,...|[3.18749474661745...|[0.96036096091487...|       0.0|\n",
      "|          18.8|       279.2| 1.5833333333333333|         0.0|          0.0|             0.0|               0.0|                0.0|                  2.0|                 2.0|               2.0|                   2.0|              2.0|              2.0|                  2.0|           2.0|                   1.0|                1.0|        0.0|   (1,[0],[1.0])|    (1,[0],[1.0])|       (1,[0],[1.0])|         (1,[0],[1.0])|          (2,[0],[1.0])|                (2,[],[])|               (2,[],[])|             (2,[],[])|                 (2,[],[])|            (2,[],[])|            (2,[],[])|                (2,[],[])|         (2,[],[])|                 (1,[],[])|          (3,[1],[1.0])|(44,[0,1,2,8,9,10...|[2.73818882455649...|[0.93924282279998...|       0.0|\n",
      "|          18.8|      294.95|               1.25|         0.0|          1.0|             0.0|               0.0|                0.0|                  2.0|                 2.0|               2.0|                   2.0|              2.0|              2.0|                  2.0|           2.0|                   1.0|                1.0|        0.0|   (1,[0],[1.0])|        (1,[],[])|       (1,[0],[1.0])|         (1,[0],[1.0])|          (2,[0],[1.0])|                (2,[],[])|               (2,[],[])|             (2,[],[])|                 (2,[],[])|            (2,[],[])|            (2,[],[])|                (2,[],[])|         (2,[],[])|                 (1,[],[])|          (3,[1],[1.0])|(44,[0,1,2,4,8,9,...|[2.62168706046028...|[0.93224434704024...|       0.0|\n",
      "|          18.8|     1094.35|               4.75|         0.0|          0.0|             0.0|               0.0|                0.0|                  2.0|                 2.0|               2.0|                   2.0|              2.0|              2.0|                  2.0|           1.0|                   1.0|                3.0|        0.0|   (1,[0],[1.0])|    (1,[0],[1.0])|       (1,[0],[1.0])|         (1,[0],[1.0])|          (2,[0],[1.0])|                (2,[],[])|               (2,[],[])|             (2,[],[])|                 (2,[],[])|            (2,[],[])|            (2,[],[])|                (2,[],[])|     (2,[1],[1.0])|                 (1,[],[])|              (3,[],[])|(44,[0,1,2,8,9,10...|[4.40491055107619...|[0.98793025924557...|       0.0|\n",
      "|         18.85|       18.85|0.08333333333333333|         0.0|          0.0|             0.0|               0.0|                0.0|                  2.0|                 2.0|               2.0|                   2.0|              2.0|              2.0|                  2.0|           0.0|                   0.0|                1.0|        1.0|   (1,[0],[1.0])|    (1,[0],[1.0])|       (1,[0],[1.0])|         (1,[0],[1.0])|          (2,[0],[1.0])|                (2,[],[])|               (2,[],[])|             (2,[],[])|                 (2,[],[])|            (2,[],[])|            (2,[],[])|                (2,[],[])|     (2,[0],[1.0])|             (1,[0],[1.0])|          (3,[1],[1.0])|(44,[0,1,2,8,9,10...|[1.23889009130217...|[0.77537075950805...|       0.0|\n",
      "|         18.85|       18.85|0.08333333333333333|         1.0|          0.0|             0.0|               0.0|                0.0|                  2.0|                 2.0|               2.0|                   2.0|              2.0|              2.0|                  2.0|           0.0|                   1.0|                0.0|        0.0|       (1,[],[])|    (1,[0],[1.0])|       (1,[0],[1.0])|         (1,[0],[1.0])|          (2,[0],[1.0])|                (2,[],[])|               (2,[],[])|             (2,[],[])|                 (2,[],[])|            (2,[],[])|            (2,[],[])|                (2,[],[])|     (2,[0],[1.0])|                 (1,[],[])|          (3,[0],[1.0])|(44,[0,1,2,3,8,9,...|[1.13761417333005...|[0.75724132909962...|       0.0|\n",
      "|         18.85|        84.2| 0.3333333333333333|         0.0|          1.0|             1.0|               0.0|                0.0|                  2.0|                 2.0|               2.0|                   2.0|              2.0|              2.0|                  2.0|           0.0|                   1.0|                1.0|        0.0|   (1,[0],[1.0])|        (1,[],[])|           (1,[],[])|         (1,[0],[1.0])|          (2,[0],[1.0])|                (2,[],[])|               (2,[],[])|             (2,[],[])|                 (2,[],[])|            (2,[],[])|            (2,[],[])|                (2,[],[])|     (2,[0],[1.0])|                 (1,[],[])|          (3,[1],[1.0])|(44,[0,1,2,4,5,8,...|[1.67103298271555...|[0.84171349597591...|       0.0|\n",
      "|         18.85|       163.2| 0.8333333333333334|         1.0|          0.0|             0.0|               0.0|                0.0|                  2.0|                 2.0|               2.0|                   2.0|              2.0|              2.0|                  2.0|           0.0|                   1.0|                1.0|        0.0|       (1,[],[])|    (1,[0],[1.0])|       (1,[0],[1.0])|         (1,[0],[1.0])|          (2,[0],[1.0])|                (2,[],[])|               (2,[],[])|             (2,[],[])|                 (2,[],[])|            (2,[],[])|            (2,[],[])|                (2,[],[])|     (2,[0],[1.0])|                 (1,[],[])|          (3,[1],[1.0])|(44,[0,1,2,3,8,9,...|[1.74488404244368...|[0.85130636766173...|       0.0|\n",
      "|         18.85|       867.3|               3.75|         0.0|          0.0|             0.0|               0.0|                0.0|                  2.0|                 2.0|               2.0|                   2.0|              2.0|              2.0|                  2.0|           2.0|                   1.0|                2.0|        0.0|   (1,[0],[1.0])|    (1,[0],[1.0])|       (1,[0],[1.0])|         (1,[0],[1.0])|          (2,[0],[1.0])|                (2,[],[])|               (2,[],[])|             (2,[],[])|                 (2,[],[])|            (2,[],[])|            (2,[],[])|                (2,[],[])|         (2,[],[])|                 (1,[],[])|          (3,[2],[1.0])|(44,[0,1,2,8,9,10...|[3.52841200460220...|[0.97148545543095...|       0.0|\n",
      "|          18.9|        18.9|0.08333333333333333|         0.0|          0.0|             0.0|               0.0|                0.0|                  2.0|                 2.0|               2.0|                   2.0|              2.0|              2.0|                  2.0|           0.0|                   1.0|                1.0|        0.0|   (1,[0],[1.0])|    (1,[0],[1.0])|       (1,[0],[1.0])|         (1,[0],[1.0])|          (2,[0],[1.0])|                (2,[],[])|               (2,[],[])|             (2,[],[])|                 (2,[],[])|            (2,[],[])|            (2,[],[])|                (2,[],[])|     (2,[0],[1.0])|                 (1,[],[])|          (3,[1],[1.0])|(44,[0,1,2,8,9,10...|[1.48275507322721...|[0.81498835763495...|       0.0|\n",
      "|          18.9|      347.65| 1.6666666666666667|         1.0|          0.0|             0.0|               0.0|                0.0|                  2.0|                 2.0|               2.0|                   2.0|              2.0|              2.0|                  2.0|           0.0|                   0.0|                3.0|        0.0|       (1,[],[])|    (1,[0],[1.0])|       (1,[0],[1.0])|         (1,[0],[1.0])|          (2,[0],[1.0])|                (2,[],[])|               (2,[],[])|             (2,[],[])|                 (2,[],[])|            (2,[],[])|            (2,[],[])|                (2,[],[])|     (2,[0],[1.0])|             (1,[0],[1.0])|              (3,[],[])|(44,[0,1,2,3,8,9,...|[1.85819689759984...|[0.86508664332246...|       0.0|\n",
      "|         18.95|      110.15|                0.5|         0.0|          0.0|             0.0|               0.0|                0.0|                  2.0|                 2.0|               2.0|                   2.0|              2.0|              2.0|                  2.0|           0.0|                   1.0|                1.0|        0.0|   (1,[0],[1.0])|    (1,[0],[1.0])|       (1,[0],[1.0])|         (1,[0],[1.0])|          (2,[0],[1.0])|                (2,[],[])|               (2,[],[])|             (2,[],[])|                 (2,[],[])|            (2,[],[])|            (2,[],[])|                (2,[],[])|     (2,[0],[1.0])|                 (1,[],[])|          (3,[1],[1.0])|(44,[0,1,2,8,9,10...|[1.62838227834747...|[0.83594790659356...|       0.0|\n",
      "|         18.95|       185.6|               0.75|         0.0|          0.0|             0.0|               0.0|                0.0|                  2.0|                 2.0|               2.0|                   2.0|              2.0|              2.0|                  2.0|           0.0|                   0.0|                1.0|        1.0|   (1,[0],[1.0])|    (1,[0],[1.0])|       (1,[0],[1.0])|         (1,[0],[1.0])|          (2,[0],[1.0])|                (2,[],[])|               (2,[],[])|             (2,[],[])|                 (2,[],[])|            (2,[],[])|            (2,[],[])|                (2,[],[])|     (2,[0],[1.0])|             (1,[0],[1.0])|          (3,[1],[1.0])|(44,[0,1,2,8,9,10...|[1.47189361949459...|[0.81334503625702...|       0.0|\n",
      "+--------------+------------+-------------------+------------+-------------+----------------+------------------+-------------------+---------------------+--------------------+------------------+----------------------+-----------------+-----------------+---------------------+--------------+----------------------+-------------------+-----------+----------------+-----------------+--------------------+----------------------+-----------------------+-------------------------+------------------------+----------------------+--------------------------+---------------------+---------------------+-------------------------+------------------+--------------------------+-----------------------+--------------------+--------------------+--------------------+----------+\n",
      "only showing top 20 rows\n",
      "\n"
     ]
    }
   ],
   "source": [
    "prediction = best_model.transform(train_data)\n",
    "prediction.show()"
   ]
  },
  {
   "cell_type": "markdown",
   "metadata": {
    "id": "gC41fZbahGCB"
   },
   "source": [
    "3. Получение метрики качества модели. Для этого применяю к объекту evaluator метод .evaluate(<ваш датафрейм с предсказаниями>)."
   ]
  },
  {
   "cell_type": "code",
   "execution_count": 30,
   "metadata": {
    "colab": {
     "base_uri": "https://localhost:8080/"
    },
    "id": "CBzDaleQhejy",
    "outputId": "6ced42f8-c9d3-4087-db88-c7eed86334b8"
   },
   "outputs": [
    {
     "name": "stdout",
     "output_type": "stream",
     "text": [
      "Area Under ROC: 0.8469131165158976\n"
     ]
    }
   ],
   "source": [
    "score = evaluate.evaluate(prediction)\n",
    "print(f\"Area Under ROC: {score}\")"
   ]
  }
 ],
 "metadata": {
  "colab": {
   "provenance": []
  },
  "kernelspec": {
   "display_name": "Python 3 (ipykernel)",
   "language": "python",
   "name": "python3"
  },
  "language_info": {
   "codemirror_mode": {
    "name": "ipython",
    "version": 3
   },
   "file_extension": ".py",
   "mimetype": "text/x-python",
   "name": "python",
   "nbconvert_exporter": "python",
   "pygments_lexer": "ipython3",
   "version": "3.11.7"
  }
 },
 "nbformat": 4,
 "nbformat_minor": 4
}
